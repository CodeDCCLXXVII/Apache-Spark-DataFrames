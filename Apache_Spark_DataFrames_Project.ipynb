{
  "nbformat": 4,
  "nbformat_minor": 0,
  "metadata": {
    "colab": {
      "provenance": [],
      "collapsed_sections": [
        "g8b_wULuodN8",
        "HPQviDmNtta8",
        "qjFHK1CKty7o",
        "HSsicSdvt4Zs"
      ]
    },
    "kernelspec": {
      "name": "python3",
      "display_name": "Python 3"
    }
  },
  "cells": [
    {
      "cell_type": "markdown",
      "metadata": {
        "id": "y1HW8GjoS7AN"
      },
      "source": [
        "# Apache Spark DataFrames Project ~ P.M. Kuria"
      ]
    },
    {
      "cell_type": "markdown",
      "metadata": {
        "id": "kLG2VTrnTvYL"
      },
      "source": [
        "## 1. Defining the Question"
      ]
    },
    {
      "cell_type": "markdown",
      "metadata": {
        "id": "XecOwPNorl2W"
      },
      "source": [
        "### a) Specifying the Data Analysis Question"
      ]
    },
    {
      "cell_type": "markdown",
      "metadata": {
        "id": "ym7-i7auXZPg"
      },
      "source": [
        "As a Data professional, you need to perform an analysis by answering questions about some stock market data on Safaricom from the years 2012-2017."
      ]
    },
    {
      "cell_type": "markdown",
      "metadata": {
        "id": "J4wfHZwQrs-t"
      },
      "source": [
        "### b) Defining the Metric for Success"
      ]
    },
    {
      "cell_type": "markdown",
      "metadata": {
        "id": "IuQcoaLFGjkH"
      },
      "source": [
        "Measure of success will be measured by atttempting to asnwer below questions: \n",
        "\n",
        "1. What day had the Peak High in Price?\n",
        "2. What is the mean of the Close column?\n",
        "3. What is the max and min of the Volume column?\n",
        "4. How many days was the Close lower than 60 dollars?\n",
        "5. What percentage of the time was the High greater than 80 dollars?\n",
        "6. What is the Pearson correlation between High and Volume?\n",
        "7. What is the max High per year?\n",
        "8. What is the average Close for each Calendar Month?"
      ]
    },
    {
      "cell_type": "markdown",
      "metadata": {
        "id": "a9BPYqunry97"
      },
      "source": [
        "### c) Understanding the context "
      ]
    },
    {
      "cell_type": "markdown",
      "metadata": {
        "id": "2jeqV9VPG1tg"
      },
      "source": [
        "Safaricom PLC is the leading telecommunication company in East Africa. Its purpose is to transform lives by connecting people to people, people to opportunities and people to information. It keeps over 42 million customers connected and play a critical role in the society, supporting over one million jobs both directly and indirectly while our total economic value was estimated at KES 362 Billion ($ 3.2 billion) for the 12 months through March 2021. It is listed on the Nairobi Securities Exchange (NSE) and with annual revenues of close to KES 298 Billion ($2.5 billion) as at March 2022. It is founded in 1997 as a fully owned subsidiary of Telkom Kenya before a 40 percent acquisition by Vodafone Group PLC in May 2000, and a public offering of 25 percent shares through the NSE in 2008. Under the management of Vodafone Group PLC, it welcomed Michael Joseph, as our first CEO, a few months later in July of 2000. He led the company’s growth to accommodate 16.71 million subscribers from the previous 20,000, largely owing to innovative products like M-PESA in 2007"
      ]
    },
    {
      "cell_type": "markdown",
      "metadata": {
        "id": "7KMRBJ7zr9HD"
      },
      "source": [
        "### d) Recording the Experimental Design"
      ]
    },
    {
      "cell_type": "markdown",
      "metadata": {
        "id": "YG0dB0_PG5_i"
      },
      "source": [
        "1. Data Importation and Exploration.\n",
        "2. Data Preparation.\n",
        "3. Data Analysis."
      ]
    },
    {
      "cell_type": "markdown",
      "metadata": {
        "id": "zSGyg6kWsBUl"
      },
      "source": [
        "### e) Data Relevance"
      ]
    },
    {
      "cell_type": "markdown",
      "metadata": {
        "id": "UogUWzkTHJ9D"
      },
      "source": [
        "The dataset used is indisputable, since it is available publicly online and anyone can use the same data to challenge any conclusion arrived at on the analysis performed herein."
      ]
    },
    {
      "cell_type": "markdown",
      "metadata": {
        "id": "iUNbvIvnT7ep"
      },
      "source": [
        "## 2. Data Importation and Exploration\n"
      ]
    },
    {
      "cell_type": "code",
      "source": [
        "# install pyspark\n",
        "!pip install pyspark"
      ],
      "metadata": {
        "colab": {
          "base_uri": "https://localhost:8080/"
        },
        "id": "6WPePv_k7ijE",
        "outputId": "b945c06f-db25-4172-d377-8bfbd709c935"
      },
      "execution_count": 2,
      "outputs": [
        {
          "output_type": "stream",
          "name": "stdout",
          "text": [
            "Looking in indexes: https://pypi.org/simple, https://us-python.pkg.dev/colab-wheels/public/simple/\n",
            "Collecting pyspark\n",
            "  Downloading pyspark-3.3.1.tar.gz (281.4 MB)\n",
            "\u001b[2K     \u001b[90m━━━━━━━━━━━━━━━━━━━━━━━━━━━━━━━━━━━━━━━\u001b[0m \u001b[32m281.4/281.4 MB\u001b[0m \u001b[31m5.0 MB/s\u001b[0m eta \u001b[36m0:00:00\u001b[0m\n",
            "\u001b[?25h  Preparing metadata (setup.py) ... \u001b[?25l\u001b[?25hdone\n",
            "Collecting py4j==0.10.9.5\n",
            "  Downloading py4j-0.10.9.5-py2.py3-none-any.whl (199 kB)\n",
            "\u001b[2K     \u001b[90m━━━━━━━━━━━━━━━━━━━━━━━━━━━━━━━━━━━━━━\u001b[0m \u001b[32m199.7/199.7 KB\u001b[0m \u001b[31m20.2 MB/s\u001b[0m eta \u001b[36m0:00:00\u001b[0m\n",
            "\u001b[?25hBuilding wheels for collected packages: pyspark\n",
            "  Building wheel for pyspark (setup.py) ... \u001b[?25l\u001b[?25hdone\n",
            "  Created wheel for pyspark: filename=pyspark-3.3.1-py2.py3-none-any.whl size=281845512 sha256=c8c0e2a7742198ba38b9f05d75a297027c4d67073489380f19b227929d9e8da7\n",
            "  Stored in directory: /root/.cache/pip/wheels/43/dc/11/ec201cd671da62fa9c5cc77078235e40722170ceba231d7598\n",
            "Successfully built pyspark\n",
            "Installing collected packages: py4j, pyspark\n",
            "Successfully installed py4j-0.10.9.5 pyspark-3.3.1\n"
          ]
        }
      ]
    },
    {
      "cell_type": "code",
      "metadata": {
        "id": "STUSuuyTTBgx"
      },
      "source": [
        "# Importing our libraries\n",
        "# pyspark\n",
        "#\n",
        "from pyspark.sql import SparkSession\n",
        "from pyspark.sql.functions import format_number, mean, max, min, corr, count, avg\n",
        "from pyspark.sql.functions import year, month"
      ],
      "execution_count": 3,
      "outputs": []
    },
    {
      "cell_type": "code",
      "metadata": {
        "id": "XJn2KjW-WMlG"
      },
      "source": [
        "# Start a spark session\n",
        "spark = SparkSession.builder.appName(\"StockAnalysis\").getOrCreate()\n",
        "\n",
        "# Load the stock file and infer the data types\n",
        "df = spark.read.csv(\"saf_stock.csv\", header=True, inferSchema=True)"
      ],
      "execution_count": 12,
      "outputs": []
    },
    {
      "cell_type": "code",
      "metadata": {
        "id": "7168_y8EhZg7",
        "colab": {
          "base_uri": "https://localhost:8080/"
        },
        "outputId": "05552b44-da8c-45bb-fc63-48a87e53c49e"
      },
      "source": [
        "# Determine the column names\n",
        "columns = df.columns\n",
        "print(\"Columns: \", columns)"
      ],
      "execution_count": 13,
      "outputs": [
        {
          "output_type": "stream",
          "name": "stdout",
          "text": [
            "Columns:  ['Date', 'Open', 'High', 'Low', 'Close', 'Volume', 'Adj Close']\n"
          ]
        }
      ]
    },
    {
      "cell_type": "code",
      "metadata": {
        "id": "87pOSl5MhcdL",
        "colab": {
          "base_uri": "https://localhost:8080/"
        },
        "outputId": "d1e313ef-b899-4a89-fea9-64268f894095"
      },
      "source": [
        "# Make observations about the schema\n",
        "df.printSchema()"
      ],
      "execution_count": 7,
      "outputs": [
        {
          "output_type": "stream",
          "name": "stdout",
          "text": [
            "root\n",
            " |-- Date: timestamp (nullable = true)\n",
            " |-- Open: double (nullable = true)\n",
            " |-- High: double (nullable = true)\n",
            " |-- Low: double (nullable = true)\n",
            " |-- Close: double (nullable = true)\n",
            " |-- Volume: integer (nullable = true)\n",
            " |-- Adj Close: double (nullable = true)\n",
            "\n"
          ]
        }
      ]
    },
    {
      "cell_type": "code",
      "metadata": {
        "id": "a8yvg3qQl_HF",
        "colab": {
          "base_uri": "https://localhost:8080/"
        },
        "outputId": "a3cd52c1-ffdc-4e4b-c831-103d8d39f9c6"
      },
      "source": [
        "# Show the first 5 rows\n",
        "df.show(5)"
      ],
      "execution_count": 8,
      "outputs": [
        {
          "output_type": "stream",
          "name": "stdout",
          "text": [
            "+-------------------+------------------+---------+---------+------------------+--------+------------------+\n",
            "|               Date|              Open|     High|      Low|             Close|  Volume|         Adj Close|\n",
            "+-------------------+------------------+---------+---------+------------------+--------+------------------+\n",
            "|2012-01-03 00:00:00|         59.970001|61.060001|59.869999|         60.330002|12668800|52.619234999999996|\n",
            "|2012-01-04 00:00:00|60.209998999999996|60.349998|59.470001|59.709998999999996| 9593300|         52.078475|\n",
            "|2012-01-05 00:00:00|         59.349998|59.619999|58.369999|         59.419998|12768200|         51.825539|\n",
            "|2012-01-06 00:00:00|         59.419998|59.450001|58.869999|              59.0| 8069400|          51.45922|\n",
            "|2012-01-09 00:00:00|         59.029999|59.549999|58.919998|             59.18| 6679300|51.616215000000004|\n",
            "+-------------------+------------------+---------+---------+------------------+--------+------------------+\n",
            "only showing top 5 rows\n",
            "\n"
          ]
        }
      ]
    },
    {
      "cell_type": "code",
      "metadata": {
        "id": "x3sfP6y2hgIS",
        "colab": {
          "base_uri": "https://localhost:8080/"
        },
        "outputId": "67144186-c52d-4378-8cc2-9ccc54418463"
      },
      "source": [
        "# Use the describe method to learn about the data frame\n",
        "df.describe().show()"
      ],
      "execution_count": 9,
      "outputs": [
        {
          "output_type": "stream",
          "name": "stdout",
          "text": [
            "+-------+------------------+-----------------+-----------------+-----------------+-----------------+-----------------+\n",
            "|summary|              Open|             High|              Low|            Close|           Volume|        Adj Close|\n",
            "+-------+------------------+-----------------+-----------------+-----------------+-----------------+-----------------+\n",
            "|  count|              1258|             1258|             1258|             1258|             1258|             1258|\n",
            "|   mean| 72.35785375357709|72.83938807631165| 71.9186009594594|72.38844998012726|8222093.481717011|67.23883848728146|\n",
            "| stddev|  6.76809024470826|6.768186808159218|6.744075756255496|6.756859163732991|  4519780.8431556|6.722609449996857|\n",
            "|    min|56.389998999999996|        57.060001|        56.299999|        56.419998|          2094900|        50.363689|\n",
            "|    max|         90.800003|        90.970001|            89.25|        90.470001|         80898100|84.91421600000001|\n",
            "+-------+------------------+-----------------+-----------------+-----------------+-----------------+-----------------+\n",
            "\n"
          ]
        }
      ]
    },
    {
      "cell_type": "markdown",
      "metadata": {
        "id": "FlBMxEDBUc9B"
      },
      "source": [
        "## 3. Data Preparation"
      ]
    },
    {
      "cell_type": "code",
      "source": [
        "# Format all the numeric data to 2 decimal places\n",
        "for c_name, c_type in df.dtypes:\n",
        "    if c_type in ('double', 'float'):\n",
        "        df = df.withColumn(c_name, format_number(c_name, 2))\n",
        "\n",
        "df.show(5)"
      ],
      "metadata": {
        "colab": {
          "base_uri": "https://localhost:8080/"
        },
        "id": "e6mFGpV0Bfd1",
        "outputId": "b1e0f00b-e80b-4198-c17c-4fc201629e85"
      },
      "execution_count": 22,
      "outputs": [
        {
          "output_type": "stream",
          "name": "stdout",
          "text": [
            "+-------------------+-----+-----+-----+-----+--------+---------+\n",
            "|               Date| Open| High|  Low|Close|  Volume|Adj Close|\n",
            "+-------------------+-----+-----+-----+-----+--------+---------+\n",
            "|2012-01-03 00:00:00|59.97|61.06|59.87|60.33|12668800|    52.62|\n",
            "|2012-01-04 00:00:00|60.21|60.35|59.47|59.71| 9593300|    52.08|\n",
            "|2012-01-05 00:00:00|59.35|59.62|58.37|59.42|12768200|    51.83|\n",
            "|2012-01-06 00:00:00|59.42|59.45|58.87|59.00| 8069400|    51.46|\n",
            "|2012-01-09 00:00:00|59.03|59.55|58.92|59.18| 6679300|    51.62|\n",
            "+-------------------+-----+-----+-----+-----+--------+---------+\n",
            "only showing top 5 rows\n",
            "\n"
          ]
        }
      ]
    },
    {
      "cell_type": "code",
      "source": [
        "# Create a new data frame with a column called HV Ratio\n",
        "df = df.withColumn(\"HV Ratio\", df[\"High\"]/df[\"Volume\"])\n",
        "df.columns"
      ],
      "metadata": {
        "colab": {
          "base_uri": "https://localhost:8080/"
        },
        "id": "6K1U9e3a-3QK",
        "outputId": "b3b43fdc-c9cc-4a50-87b8-376dd076a622"
      },
      "execution_count": 24,
      "outputs": [
        {
          "output_type": "execute_result",
          "data": {
            "text/plain": [
              "['Date', 'Open', 'High', 'Low', 'Close', 'Volume', 'Adj Close', 'HV Ratio']"
            ]
          },
          "metadata": {},
          "execution_count": 24
        }
      ]
    },
    {
      "cell_type": "markdown",
      "metadata": {
        "id": "vTbdjSrhVIiT"
      },
      "source": [
        "\n",
        "## 4. Data Analysis"
      ]
    },
    {
      "cell_type": "code",
      "metadata": {
        "id": "7Q6JR-4yfVHf",
        "colab": {
          "base_uri": "https://localhost:8080/"
        },
        "outputId": "e9d1dcfd-0264-46c9-8310-e92006ce7ec5"
      },
      "source": [
        "# What day had the Peak High in Price?\n",
        "df.orderBy(df[\"High\"].desc()).show(1)"
      ],
      "execution_count": 25,
      "outputs": [
        {
          "output_type": "stream",
          "name": "stdout",
          "text": [
            "+-------------------+-----+-----+-----+-----+-------+---------+--------------------+\n",
            "|               Date| Open| High|  Low|Close| Volume|Adj Close|            HV Ratio|\n",
            "+-------------------+-----+-----+-----+-----+-------+---------+--------------------+\n",
            "|2015-01-13 00:00:00|90.80|90.97|88.93|89.31|8215400|    83.83|1.107310660466928E-5|\n",
            "+-------------------+-----+-----+-----+-----+-------+---------+--------------------+\n",
            "only showing top 1 row\n",
            "\n"
          ]
        }
      ]
    },
    {
      "cell_type": "code",
      "metadata": {
        "id": "dYtdLdxHfVrh",
        "colab": {
          "base_uri": "https://localhost:8080/"
        },
        "outputId": "615ce796-2fa8-4e7e-d6d7-ddb932d1ef24"
      },
      "source": [
        "# What is the mean of the Close column?\n",
        "mean_close = df.agg(mean(df[\"Close\"])).collect()[0][0]\n",
        "print(\"Mean of Close column: \", mean_close)"
      ],
      "execution_count": 26,
      "outputs": [
        {
          "output_type": "stream",
          "name": "stdout",
          "text": [
            "Mean of Close column:  72.38844992050863\n"
          ]
        }
      ]
    },
    {
      "cell_type": "code",
      "metadata": {
        "id": "8aTP8trqsK3g",
        "colab": {
          "base_uri": "https://localhost:8080/"
        },
        "outputId": "bb6a5536-0b59-4822-d702-f178e69472cf"
      },
      "source": [
        "# What is the max and min of the Volume column?\n",
        "max_volume = df.agg(max(df[\"Volume\"])).collect()[0][0]\n",
        "min_volume = df.agg(min(df[\"Volume\"])).collect()[0][0]\n",
        "print(\"Max of Volume column: \", max_volume)\n",
        "print(\"Min of Volume column: \", min_volume)"
      ],
      "execution_count": 27,
      "outputs": [
        {
          "output_type": "stream",
          "name": "stdout",
          "text": [
            "Max of Volume column:  80898100\n",
            "Min of Volume column:  2094900\n"
          ]
        }
      ]
    },
    {
      "cell_type": "code",
      "metadata": {
        "id": "jz7jXe8BtLGw",
        "colab": {
          "base_uri": "https://localhost:8080/"
        },
        "outputId": "2157f884-e9c6-4565-a1fe-14426542d28d"
      },
      "source": [
        "# How many days was the Close lower than 60 dollars?\n",
        "days_close_lt_60 = df.filter(df[\"Close\"] < 60).count()\n",
        "print(\"Days Close < 60: \", days_close_lt_60)"
      ],
      "execution_count": 28,
      "outputs": [
        {
          "output_type": "stream",
          "name": "stdout",
          "text": [
            "Days Close < 60:  81\n"
          ]
        }
      ]
    },
    {
      "cell_type": "code",
      "metadata": {
        "id": "OKfAq-PGwhbM",
        "colab": {
          "base_uri": "https://localhost:8080/"
        },
        "outputId": "aed5e5df-b22e-410d-da86-4806c437a610"
      },
      "source": [
        "# What percentage of the time was the High greater than 80 dollars?\n",
        "high_gt_80 = df.filter(df[\"High\"] > 80).count() / df.count() * 100\n",
        "print(\"% High > 80: \", high_gt_80)"
      ],
      "execution_count": 29,
      "outputs": [
        {
          "output_type": "stream",
          "name": "stdout",
          "text": [
            "% High > 80:  8.426073131955485\n"
          ]
        }
      ]
    },
    {
      "cell_type": "code",
      "metadata": {
        "id": "wwG_TiwDyvEP",
        "colab": {
          "base_uri": "https://localhost:8080/"
        },
        "outputId": "e152d649-adf4-4440-abb2-3a28482a41c3"
      },
      "source": [
        "# What is the Pearson correlation between High and Volume?\n",
        "correlation = df.agg(corr(\"High\", \"Volume\")).collect()[0][0]\n",
        "print(\"Pearson Correlation: \", correlation)"
      ],
      "execution_count": 30,
      "outputs": [
        {
          "output_type": "stream",
          "name": "stdout",
          "text": [
            "Pearson Correlation:  -0.33843260582148915\n"
          ]
        }
      ]
    },
    {
      "cell_type": "code",
      "source": [
        "# What is the max High per year?\n",
        "df_year = df.groupBy(year(df[\"Date\"])).agg(max(df[\"High\"]))\n",
        "df_year.show()"
      ],
      "metadata": {
        "colab": {
          "base_uri": "https://localhost:8080/"
        },
        "id": "omfWlwPQDftC",
        "outputId": "143337cc-9ef2-43bf-c453-016e752e9ac9"
      },
      "execution_count": 31,
      "outputs": [
        {
          "output_type": "stream",
          "name": "stdout",
          "text": [
            "+----------+---------+\n",
            "|year(Date)|max(High)|\n",
            "+----------+---------+\n",
            "|      2012|    77.60|\n",
            "|      2013|    81.37|\n",
            "|      2014|    88.09|\n",
            "|      2015|    90.97|\n",
            "|      2016|    75.19|\n",
            "+----------+---------+\n",
            "\n"
          ]
        }
      ]
    },
    {
      "cell_type": "code",
      "source": [
        "# What is the average Close for each Calendar Month?\n",
        "df_month = df.groupBy(month(df[\"Date\"])).agg(avg(df[\"Close\"]))\n",
        "df_month.show()"
      ],
      "metadata": {
        "colab": {
          "base_uri": "https://localhost:8080/"
        },
        "id": "KzWZOob-DmjD",
        "outputId": "671ace1d-bc8b-4ace-b32e-4ae15b20bb81"
      },
      "execution_count": 32,
      "outputs": [
        {
          "output_type": "stream",
          "name": "stdout",
          "text": [
            "+-----------+-----------------+\n",
            "|month(Date)|       avg(Close)|\n",
            "+-----------+-----------------+\n",
            "|         12|72.84792452830189|\n",
            "|          1|71.44801980198022|\n",
            "|          6|72.49537735849057|\n",
            "|          3|71.77794392523363|\n",
            "|          5|72.30971698113206|\n",
            "|          9|72.18411764705883|\n",
            "|          4|72.97361904761907|\n",
            "|          8|73.02981818181819|\n",
            "|          7|74.43971962616824|\n",
            "|         10|71.57854545454546|\n",
            "|         11|72.11108910891085|\n",
            "|          2|71.30680412371134|\n",
            "+-----------+-----------------+\n",
            "\n"
          ]
        }
      ]
    },
    {
      "cell_type": "markdown",
      "metadata": {
        "id": "HPQviDmNtta8"
      },
      "source": [
        "### a). Did we have the right data?"
      ]
    },
    {
      "cell_type": "markdown",
      "metadata": {
        "id": "SyJMFjvmKePc"
      },
      "source": [
        "Yeah, to answer the questions given."
      ]
    },
    {
      "cell_type": "markdown",
      "metadata": {
        "id": "qjFHK1CKty7o"
      },
      "source": [
        "### b). Do we need other data to answer our question?"
      ]
    },
    {
      "cell_type": "markdown",
      "metadata": {
        "id": "nOgfjvkvD7FP"
      },
      "source": [
        "For the required analysis this data is sufficient for now."
      ]
    },
    {
      "cell_type": "markdown",
      "metadata": {
        "id": "HSsicSdvt4Zs"
      },
      "source": [
        "### c). Did we have the right question?"
      ]
    },
    {
      "cell_type": "markdown",
      "metadata": {
        "id": "DvVFZGvNKfSv"
      },
      "source": [
        "Yes as to meet the brief."
      ]
    }
  ]
}